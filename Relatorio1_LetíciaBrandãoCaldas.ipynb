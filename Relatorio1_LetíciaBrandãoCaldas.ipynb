{
  "nbformat": 4,
  "nbformat_minor": 0,
  "metadata": {
    "colab": {
      "provenance": [],
      "include_colab_link": true
    },
    "kernelspec": {
      "name": "python3",
      "display_name": "Python 3"
    },
    "language_info": {
      "name": "python"
    }
  },
  "cells": [
    {
      "cell_type": "markdown",
      "metadata": {
        "id": "view-in-github",
        "colab_type": "text"
      },
      "source": [
        "<a href=\"https://colab.research.google.com/github/leticiacaldas/Relatorio-1-CNC/blob/main/Relatorio1_Let%C3%ADciaBrand%C3%A3oCaldas.ipynb\" target=\"_parent\"><img src=\"https://colab.research.google.com/assets/colab-badge.svg\" alt=\"Open In Colab\"/></a>"
      ]
    },
    {
      "cell_type": "markdown",
      "source": [
        "Exeercicio 1:\n"
      ],
      "metadata": {
        "id": "uVbitKEG5fFf"
      }
    },
    {
      "cell_type": "markdown",
      "source": [
        "Método:\n",
        "Bissecção"
      ],
      "metadata": {
        "id": "TZSKCEoh-eiH"
      }
    },
    {
      "cell_type": "code",
      "source": [
        "import numpy as np\n",
        "import matplotlib.pyplot as plt\n",
        "\n",
        "\n",
        "def f(a):\n",
        "    return np.exp(3) * 8 + 3 - 3 * a\n",
        "\n",
        "# gráfico da função no intervalo [0, 5]\n",
        "a_values = np.linspace(0, 5, 100)\n",
        "f_values = f(a_values)\n",
        "\n",
        "plt.plot(a_values, f_values, label='f(a)')\n",
        "plt.axhline(0, color='black', linestyle='--', linewidth=0.8, label='y=0')\n",
        "plt.xlabel('a')\n",
        "plt.ylabel('f(a)')\n",
        "plt.legend()\n",
        "plt.title('Gráfico de f(a)')\n",
        "plt.grid(True)\n",
        "plt.show()\n",
        "\n",
        "# Método da Bissecção\n",
        "def bissecao(f, a, b, tol=1e-4, max_iter=10):\n",
        "    iter_count = 0\n",
        "    while (b - a) / 2 > tol and iter_count < max_iter:\n",
        "        c = (a + b) / 2\n",
        "        if f(c) == 0:\n",
        "            break\n",
        "        elif f(c) * f(a) < 0:\n",
        "            b = c\n",
        "        else:\n",
        "            a = c\n",
        "        iter_count += 1\n",
        "\n",
        "    return c\n",
        "\n",
        "# intervalo inicial [1, 2]\n",
        "a_raiz = bissecao(f, 1, 2, tol=0.0001)\n",
        "\n",
        "print(\"Valor de a:\", a_raiz)"
      ],
      "metadata": {
        "colab": {
          "base_uri": "https://localhost:8080/",
          "height": 489
        },
        "id": "fvaQ6tXE5gra",
        "outputId": "d2efc18b-18e8-4825-9a68-74c4bda98bff"
      },
      "execution_count": null,
      "outputs": [
        {
          "output_type": "display_data",
          "data": {
            "text/plain": [
              "<Figure size 640x480 with 1 Axes>"
            ],
            "image/png": "[encoded data removed]"
          },
          "metadata": {}
        },
        {
          "output_type": "stream",
          "name": "stdout",
          "text": [
            "Valor de a: 1.9990234375\n"
          ]
        }
      ]
    },
    {
      "cell_type": "markdown",
      "source": [
        "Exercicio 2:"
      ],
      "metadata": {
        "id": "30eOeWPf-9kU"
      }
    },
    {
      "cell_type": "markdown",
      "source": [
        "Método:\n",
        "Newton-Raphson"
      ],
      "metadata": {
        "id": "AQKxg11T_ATF"
      }
    },
    {
      "cell_type": "code",
      "source": [
        "import numpy as np\n",
        "\n",
        "\n",
        "def f(x):\n",
        "    return x**3 - 100 * np.cos(x)\n",
        "\n",
        "def df(x):\n",
        "    return 3 * x**2 + 100 * np.sin(x)\n",
        "\n",
        "\n",
        "def newton_raphson(x0, tol):\n",
        "    x = x0\n",
        "    iter_count = 0\n",
        "    max_iter = 100\n",
        "\n",
        "    while abs(f(x)) > tol and iter_count < max_iter:\n",
        "        x = x - f(x) / df(x)\n",
        "        iter_count += 1\n",
        "\n",
        "    return x\n",
        "\n",
        "# Condição inicial: x0 = 1\n",
        "x0_a = 1\n",
        "raiz_a = newton_raphson(x0_a, 0.001)\n",
        "\n",
        "print(f'a) A raiz aproximada é: {raiz_a}')\n",
        "\n",
        "# Condição inicial: x0 = -1\n",
        "x0_b = -1\n",
        "raiz_b = newton_raphson(x0_b, 0.001)\n",
        "\n",
        "print(f'b) A raiz aproximada é: {raiz_b}')\n"
      ],
      "metadata": {
        "colab": {
          "base_uri": "https://localhost:8080/"
        },
        "id": "7Cr5JPz4_BwP",
        "outputId": "6874319b-e21d-48f5-97ad-a88cdcaac8a1"
      },
      "execution_count": null,
      "outputs": [
        {
          "output_type": "stream",
          "name": "stdout",
          "text": [
            "a) A raiz aproximada é: 1.5346454577941748\n",
            "b) A raiz aproximada é: -1.6127561270429593\n"
          ]
        }
      ]
    },
    {
      "cell_type": "markdown",
      "source": [
        "A escolha do ponto inicial é crucial para o do Método de Newton-Raphson. Diferentes valores iniciais podem trazer resultados com convergência para raízes distintas, convergência para a mesma raiz, ou até mesmo em divergência, dependendo da proximidade do ponto inicial à raiz desejada e da presença de múltiplas raízes na função."
      ],
      "metadata": {
        "id": "xAurK7eJ_piT"
      }
    },
    {
      "cell_type": "markdown",
      "source": [
        "Exercicio 3:"
      ],
      "metadata": {
        "id": "UTsDBDA1Ar49"
      }
    },
    {
      "cell_type": "markdown",
      "source": [
        "Método:\n",
        "Falsa Posição\n",
        "​"
      ],
      "metadata": {
        "id": "YeGT0M4-At_-"
      }
    },
    {
      "cell_type": "code",
      "source": [
        "import numpy as np\n",
        "\n",
        "# Função para o volume em relação à profundidade\n",
        "def volume(h):\n",
        "    R = 3\n",
        "    return (np.pi * h**2 * (3*R - h)) / 3\n",
        "\n",
        "# Função para o erro relativo aproximado\n",
        "def erro_relativo_aproximado(valor_novo, valor_anterior):\n",
        "    if valor_novo != 0 and valor_anterior is not None:\n",
        "        return abs((valor_novo - valor_anterior) / valor_novo) * 100\n",
        "    else:\n",
        "        return float('inf')\n",
        "\n",
        "# Método da Falsa Posição\n",
        "def falsa_posicao(f, a, b, tol, max_iter):\n",
        "    iteracao = 0\n",
        "    valor_anterior = None\n",
        "\n",
        "    while iteracao < max_iter:\n",
        "        valor_novo = (a * f(b) - b * f(a)) / (f(b) - f(a))\n",
        "        erro = erro_relativo_aproximado(valor_novo, valor_anterior)\n",
        "\n",
        "        if erro < tol:\n",
        "            break\n",
        "\n",
        "        if f(valor_novo) * f(a) < 0:\n",
        "            b = valor_novo\n",
        "        else:\n",
        "            a = valor_novo\n",
        "\n",
        "        valor_anterior = valor_novo\n",
        "        iteracao += 1\n",
        "\n",
        "    return valor_novo, erro\n",
        "\n",
        "a = 0\n",
        "b = 6\n",
        "tolerancia = 0.0001\n",
        "max_iteracoes = 3\n",
        "\n",
        "\n",
        "profundidade, erro = falsa_posicao(volume, a, b, tolerancia, max_iteracoes)\n",
        "\n",
        "\n",
        "print(f'A profundidade para conter 30 m³ é aproximadamente: {profundidade:.4f} m')\n",
        "print(f'Erro relativo aproximado após cada iteração: {erro:.6f}%')\n"
      ],
      "metadata": {
        "id": "C62D7faHAwd5",
        "colab": {
          "base_uri": "https://localhost:8080/"
        },
        "outputId": "6fba7cb8-b48b-43f7-ed47-00e864142764"
      },
      "execution_count": null,
      "outputs": [
        {
          "output_type": "stream",
          "name": "stdout",
          "text": [
            "A profundidade para conter 30 m³ é aproximadamente: 0.0000 m\n",
            "Erro relativo aproximado após cada iteração: inf%\n"
          ]
        }
      ]
    },
    {
      "cell_type": "markdown",
      "source": [
        "Exercicio 4:"
      ],
      "metadata": {
        "id": "McgBWXS9C00U"
      }
    },
    {
      "cell_type": "code",
      "source": [
        "import numpy as np\n",
        "\n",
        "# Parâmetros fornecidos\n",
        "h = 300\n",
        "F = 0.8\n",
        "D = 14\n",
        "C_objetivo = 1200\n",
        "limite_iteracoes = 3\n",
        "tolerancia = 1e-3\n",
        "\n",
        "# Função C(A)\n",
        "def C(A):\n",
        "    return (np.pi * (h / np.cos(A))**2 * F) / (0.5 * np.pi * D**2 * (1 + np.sin(A) - 0.5 * np.cos(A)))\n",
        "\n",
        "# Derivada de C(A)\n",
        "def derivada_C(A):\n",
        "    numerador = -np.pi * h**2 * F * np.sin(A)\n",
        "    denominador = D**2 * np.cos(A)**3\n",
        "    segundo_termo = np.pi * h**2 * F * np.cos(A) * (1 + np.sin(A) - 0.5 * np.cos(A))\n",
        "    segundo_termo_denominador = D**2 * np.cos(A)**2 * (1 + np.sin(A) - 0.5 * np.cos(A))**2\n",
        "    return (numerador / denominador) + (segundo_termo / segundo_termo_denominador)\n",
        "\n",
        "# Método de Newton-Raphson\n",
        "def newton_raphson(f, f_prime, x0, epsilon, max_iter):\n",
        "    x = x0\n",
        "    iteracao = 0\n",
        "\n",
        "    while abs(f(x) - C_objetivo) > epsilon and iteracao < max_iter:\n",
        "        x = x - (f(x) - C_objetivo) / f_prime(x)\n",
        "        iteracao += 1\n",
        "\n",
        "    return x\n",
        "\n",
        "\n",
        "A_chute_inicial = np.pi / 25\n",
        "\n",
        "A_resultado = newton_raphson(C, derivada_C, A_chute_inicial, tolerancia, limite_iteracoes)\n",
        "\n",
        "\n",
        "print(f'O ângulo A para o qual C(A) de 1200 é aproximadamente: {np.degrees(A_resultado):.6f} graus')\n",
        "\n"
      ],
      "metadata": {
        "colab": {
          "base_uri": "https://localhost:8080/"
        },
        "id": "NqflJ7B9ENN_",
        "outputId": "2c8182e0-8b8f-4d61-db21-a371bb5afdb1"
      },
      "execution_count": null,
      "outputs": [
        {
          "output_type": "stream",
          "name": "stdout",
          "text": [
            "O ângulo A para o qual C(A) de 1200 é aproximadamente: 10.505301 graus\n"
          ]
        }
      ]
    },
    {
      "cell_type": "markdown",
      "source": [
        "Exercicio 5:"
      ],
      "metadata": {
        "id": "L9OPL5WoFZtr"
      }
    },
    {
      "cell_type": "code",
      "source": [
        "\n",
        "import numpy as np\n",
        "\n",
        "# Funções fornecidas\n",
        "def func_a(x):\n",
        "    return 2*x**4 + 4*x**3 + 3*x**2 - 10*x - 15\n",
        "\n",
        "def func_b(x):\n",
        "    return np.sin(x) * x + 4\n",
        "\n",
        "def func_c(x):\n",
        "    return (x - 3)**5 * np.log(x)\n",
        "\n",
        "# Métodos de Bissecção, Falsa Posição, Newton-Raphson e Secante\n",
        "def bisseccao(f, a, b, tol, max_iter):\n",
        "    for i in range(max_iter):\n",
        "        c = (a + b) / 2\n",
        "        if f(c) == 0 or (b - a) / 2 < tol:\n",
        "            return c\n",
        "        elif np.sign(f(c)) == np.sign(f(a)):\n",
        "            a = c\n",
        "        else:\n",
        "            b = c\n",
        "    return None\n",
        "\n",
        "def falsa_posicao(f, a, b, tol, max_iter):\n",
        "    for i in range(max_iter):\n",
        "        c = (a * f(b) - b * f(a)) / (f(b) - f(a))\n",
        "        if f(c) == 0 or abs(f(c)) < tol:\n",
        "            return c\n",
        "        elif np.sign(f(c)) == np.sign(f(a)):\n",
        "            a = c\n",
        "        else:\n",
        "            b = c\n",
        "    return None\n",
        "\n",
        "def newton_raphson(f, f_prime, x0, tol, max_iter):\n",
        "    x = x0\n",
        "    for i in range(max_iter):\n",
        "        x = x - f(x) / f_prime(x)\n",
        "        if abs(f(x)) < tol:\n",
        "            return x\n",
        "    return None\n",
        "\n",
        "def secante(f, x0, x1, tol, max_iter):\n",
        "    for i in range(max_iter):\n",
        "        x2 = x1 - (f(x1) * (x1 - x0)) / (f(x1) - f(x0))\n",
        "        if abs(f(x2)) < tol:\n",
        "            return x2\n",
        "        x0, x1 = x1, x2\n",
        "    return None\n",
        "\n",
        "# Critérios de parada\n",
        "tolerancia = 1e-10\n",
        "max_iteracoes = 500\n",
        "\n",
        "# Intervalos\n",
        "intervalo_a = [0, 3]\n",
        "intervalo_b = [1, 5]\n",
        "intervalo_c = [2, 5]\n",
        "\n",
        "# Métodos\n",
        "resultado_a_bisseccao = bisseccao(func_a, *intervalo_a, tolerancia, max_iteracoes)\n",
        "resultado_a_falsa_posicao = falsa_posicao(func_a, *intervalo_a, tolerancia, max_iteracoes)\n",
        "resultado_a_newton = newton_raphson(func_a, lambda x: 8*x**3 + 12*x**2 + 6*x - 10, np.mean(intervalo_a), tolerancia, max_iteracoes)\n",
        "resultado_a_secante = secante(func_a, *intervalo_a, tolerancia, max_iteracoes)\n",
        "\n",
        "resultado_b_bisseccao = bisseccao(func_b, *intervalo_b, tolerancia, max_iteracoes)\n",
        "resultado_b_falsa_posicao = falsa_posicao(func_b, *intervalo_b, tolerancia, max_iteracoes)\n",
        "resultado_b_newton = newton_raphson(func_b, lambda x: np.cos(x) * x + np.sin(x) + 4, np.mean(intervalo_b), tolerancia, max_iteracoes)\n",
        "resultado_b_secante = secante(func_b, *intervalo_b, tolerancia, max_iteracoes)\n",
        "\n",
        "resultado_c_bisseccao = bisseccao(func_c, *intervalo_c, tolerancia, max_iteracoes)\n",
        "resultado_c_falsa_posicao = falsa_posicao(func_c, *intervalo_c, tolerancia, max_iteracoes)\n",
        "resultado_c_newton = newton_raphson(func_c, lambda x: (x - 3)**4 * (4 * np.log(x) + 1) / x, np.mean(intervalo_c), tolerancia, max_iteracoes)\n",
        "resultado_c_secante = secante(func_c, *intervalo_c, tolerancia, max_iteracoes)\n",
        "\n",
        "# resultados\n",
        "print(\"Método da Bissecção:\")\n",
        "print(\"a) Resultado:\", resultado_a_bisseccao)\n",
        "print(\"b) Resultado:\", resultado_b_bisseccao)\n",
        "print(\"c) Resultado:\", resultado_c_bisseccao)\n",
        "\n",
        "print(\"\\nMétodo da Falsa Posição:\")\n",
        "print(\"a) Resultado:\", resultado_a_falsa_posicao)\n",
        "print(\"b) Resultado:\", resultado_b_falsa_posicao)\n",
        "print(\"c) Resultado:\", resultado_c_falsa_posicao)\n",
        "\n",
        "print(\"\\nMétodo de Newton-Raphson:\")\n",
        "print(\"a) Resultado:\", resultado_a_newton)\n",
        "print(\"b) Resultado:\", resultado_b_newton)\n",
        "print(\"c) Resultado:\", resultado_c_newton)\n",
        "\n",
        "print(\"\\nMétodo da Secante:\")\n",
        "print(\"a) Resultado:\", resultado_a_secante)\n",
        "print(\"b) Resultado:\", resultado_b_secante)\n",
        "print(\"c) Resultado:\", resultado_c_secante)\n"
      ],
      "metadata": {
        "colab": {
          "base_uri": "https://localhost:8080/"
        },
        "id": "3Mi3wIg-Fbur",
        "outputId": "dc8911c8-a000-4181-8ea2-a56d8e49c541"
      },
      "execution_count": null,
      "outputs": [
        {
          "output_type": "stream",
          "name": "stdout",
          "text": [
            "Método da Bissecção:\n",
            "a) Resultado: 1.4928787086100783\n",
            "b) Resultado: 4.323239543766249\n",
            "c) Resultado: 3.000000000029104\n",
            "\n",
            "Método da Falsa Posição:\n",
            "a) Resultado: 1.492878708662261\n",
            "b) Resultado: 4.323239543733132\n",
            "c) Resultado: None\n",
            "\n",
            "Método de Newton-Raphson:\n",
            "a) Resultado: 1.4928787086636037\n",
            "b) Resultado: -4.323239543682068\n",
            "c) Resultado: 3.007012116079277\n",
            "\n",
            "Método da Secante:\n",
            "a) Resultado: -1.300384132642908\n",
            "b) Resultado: 4.3232395437137425\n",
            "c) Resultado: 2.991007884634376\n"
          ]
        }
      ]
    }
  ]
}